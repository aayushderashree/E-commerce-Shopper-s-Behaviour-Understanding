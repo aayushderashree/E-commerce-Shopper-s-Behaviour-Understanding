{
 "cells": [
  {
   "cell_type": "code",
   "execution_count": 1,
   "id": "a5fc64f3",
   "metadata": {
    "_cell_guid": "b1076dfc-b9ad-4769-8c92-a6c4dae69d19",
    "_uuid": "8f2839f25d086af736a60e9eeb907d3b93b6e0e5",
    "execution": {
     "iopub.execute_input": "2023-03-31T15:25:39.375933Z",
     "iopub.status.busy": "2023-03-31T15:25:39.375407Z",
     "iopub.status.idle": "2023-03-31T15:25:39.389495Z",
     "shell.execute_reply": "2023-03-31T15:25:39.388268Z"
    },
    "papermill": {
     "duration": 0.025489,
     "end_time": "2023-03-31T15:25:39.392115",
     "exception": false,
     "start_time": "2023-03-31T15:25:39.366626",
     "status": "completed"
    },
    "tags": []
   },
   "outputs": [
    {
     "name": "stdout",
     "output_type": "stream",
     "text": [
      "/kaggle/input/e-commerce-shoppers-behaviour-understanding/test_data_v2.csv\n",
      "/kaggle/input/e-commerce-shoppers-behaviour-understanding/train_data_v2.csv\n",
      "/kaggle/input/e-commerce-shoppers-behaviour-understanding/sample.csv\n"
     ]
    }
   ],
   "source": [
    "# This Python 3 environment comes with many helpful analytics libraries installed\n",
    "# It is defined by the kaggle/python Docker image: https://github.com/kaggle/docker-python\n",
    "# For example, here's several helpful packages to load\n",
    "\n",
    "import numpy as np # linear algebra\n",
    "import pandas as pd # data processing, CSV file I/O (e.g. pd.read_csv)\n",
    "\n",
    "# Input data files are available in the read-only \"../input/\" directory\n",
    "# For example, running this (by clicking run or pressing Shift+Enter) will list all files under the input directory\n",
    "\n",
    "import os\n",
    "for dirname, _, filenames in os.walk('/kaggle/input'):\n",
    "    for filename in filenames:\n",
    "        print(os.path.join(dirname, filename))\n",
    "\n",
    "# You can write up to 20GB to the current directory (/kaggle/working/) that gets preserved as output when you create a version using \"Save & Run All\" \n",
    "# You can also write temporary files to /kaggle/temp/, but they won't be saved outside of the current session"
   ]
  },
  {
   "cell_type": "code",
   "execution_count": 2,
   "id": "b58c673e",
   "metadata": {
    "execution": {
     "iopub.execute_input": "2023-03-31T15:25:39.406738Z",
     "iopub.status.busy": "2023-03-31T15:25:39.405925Z",
     "iopub.status.idle": "2023-03-31T15:25:39.500148Z",
     "shell.execute_reply": "2023-03-31T15:25:39.499165Z"
    },
    "papermill": {
     "duration": 0.10442,
     "end_time": "2023-03-31T15:25:39.502803",
     "exception": false,
     "start_time": "2023-03-31T15:25:39.398383",
     "status": "completed"
    },
    "tags": []
   },
   "outputs": [],
   "source": [
    "df=pd.read_csv('/kaggle/input/e-commerce-shoppers-behaviour-understanding/train_data_v2.csv')"
   ]
  },
  {
   "cell_type": "code",
   "execution_count": 3,
   "id": "f5368122",
   "metadata": {
    "execution": {
     "iopub.execute_input": "2023-03-31T15:25:39.516574Z",
     "iopub.status.busy": "2023-03-31T15:25:39.516177Z",
     "iopub.status.idle": "2023-03-31T15:25:39.562265Z",
     "shell.execute_reply": "2023-03-31T15:25:39.561034Z"
    },
    "papermill": {
     "duration": 0.055775,
     "end_time": "2023-03-31T15:25:39.564751",
     "exception": false,
     "start_time": "2023-03-31T15:25:39.508976",
     "status": "completed"
    },
    "tags": []
   },
   "outputs": [
    {
     "data": {
      "text/html": [
       "<div>\n",
       "<style scoped>\n",
       "    .dataframe tbody tr th:only-of-type {\n",
       "        vertical-align: middle;\n",
       "    }\n",
       "\n",
       "    .dataframe tbody tr th {\n",
       "        vertical-align: top;\n",
       "    }\n",
       "\n",
       "    .dataframe thead th {\n",
       "        text-align: right;\n",
       "    }\n",
       "</style>\n",
       "<table border=\"1\" class=\"dataframe\">\n",
       "  <thead>\n",
       "    <tr style=\"text-align: right;\">\n",
       "      <th></th>\n",
       "      <th>HomePage</th>\n",
       "      <th>HomePage_Duration</th>\n",
       "      <th>LandingPage</th>\n",
       "      <th>LandingPage_Duration</th>\n",
       "      <th>ProductDescriptionPage</th>\n",
       "      <th>ProductDescriptionPage_Duration</th>\n",
       "      <th>GoogleMetric:Bounce Rates</th>\n",
       "      <th>GoogleMetric:Exit Rates</th>\n",
       "      <th>GoogleMetric:Page Values</th>\n",
       "      <th>SeasonalPurchase</th>\n",
       "      <th>...</th>\n",
       "      <th>SearchEngine</th>\n",
       "      <th>Zone</th>\n",
       "      <th>Type of Traffic</th>\n",
       "      <th>CustomerType</th>\n",
       "      <th>Gender</th>\n",
       "      <th>Cookies Setting</th>\n",
       "      <th>Education</th>\n",
       "      <th>Marital Status</th>\n",
       "      <th>WeekendPurchase</th>\n",
       "      <th>Made_Purchase</th>\n",
       "    </tr>\n",
       "  </thead>\n",
       "  <tbody>\n",
       "    <tr>\n",
       "      <th>0</th>\n",
       "      <td>0.0</td>\n",
       "      <td>0.0</td>\n",
       "      <td>0.0</td>\n",
       "      <td>0.0</td>\n",
       "      <td>1.0</td>\n",
       "      <td>0.000000</td>\n",
       "      <td>0.20</td>\n",
       "      <td>0.20</td>\n",
       "      <td>0.0</td>\n",
       "      <td>0.0</td>\n",
       "      <td>...</td>\n",
       "      <td>1.0</td>\n",
       "      <td>9.0</td>\n",
       "      <td>3.0</td>\n",
       "      <td>Returning_Visitor</td>\n",
       "      <td>Not Specified</td>\n",
       "      <td>Deny</td>\n",
       "      <td>Not Specified</td>\n",
       "      <td>Other</td>\n",
       "      <td>0.0</td>\n",
       "      <td>False</td>\n",
       "    </tr>\n",
       "    <tr>\n",
       "      <th>1</th>\n",
       "      <td>0.0</td>\n",
       "      <td>0.0</td>\n",
       "      <td>0.0</td>\n",
       "      <td>0.0</td>\n",
       "      <td>2.0</td>\n",
       "      <td>2.666667</td>\n",
       "      <td>0.05</td>\n",
       "      <td>0.14</td>\n",
       "      <td>0.0</td>\n",
       "      <td>0.0</td>\n",
       "      <td>...</td>\n",
       "      <td>2.0</td>\n",
       "      <td>2.0</td>\n",
       "      <td>4.0</td>\n",
       "      <td>Returning_Visitor</td>\n",
       "      <td>Female</td>\n",
       "      <td>Deny</td>\n",
       "      <td>Others</td>\n",
       "      <td>Married</td>\n",
       "      <td>0.0</td>\n",
       "      <td>False</td>\n",
       "    </tr>\n",
       "    <tr>\n",
       "      <th>2</th>\n",
       "      <td>0.0</td>\n",
       "      <td>0.0</td>\n",
       "      <td>0.0</td>\n",
       "      <td>0.0</td>\n",
       "      <td>10.0</td>\n",
       "      <td>627.500000</td>\n",
       "      <td>0.02</td>\n",
       "      <td>0.05</td>\n",
       "      <td>0.0</td>\n",
       "      <td>0.0</td>\n",
       "      <td>...</td>\n",
       "      <td>3.0</td>\n",
       "      <td>1.0</td>\n",
       "      <td>4.0</td>\n",
       "      <td>Returning_Visitor</td>\n",
       "      <td>Female</td>\n",
       "      <td>ALL</td>\n",
       "      <td>Others</td>\n",
       "      <td>Married</td>\n",
       "      <td>1.0</td>\n",
       "      <td>False</td>\n",
       "    </tr>\n",
       "    <tr>\n",
       "      <th>3</th>\n",
       "      <td>0.0</td>\n",
       "      <td>0.0</td>\n",
       "      <td>0.0</td>\n",
       "      <td>0.0</td>\n",
       "      <td>1.0</td>\n",
       "      <td>0.000000</td>\n",
       "      <td>0.20</td>\n",
       "      <td>0.20</td>\n",
       "      <td>0.0</td>\n",
       "      <td>0.4</td>\n",
       "      <td>...</td>\n",
       "      <td>4.0</td>\n",
       "      <td>3.0</td>\n",
       "      <td>3.0</td>\n",
       "      <td>Returning_Visitor</td>\n",
       "      <td>Male</td>\n",
       "      <td>ALL</td>\n",
       "      <td>Diploma</td>\n",
       "      <td>Single</td>\n",
       "      <td>0.0</td>\n",
       "      <td>False</td>\n",
       "    </tr>\n",
       "    <tr>\n",
       "      <th>4</th>\n",
       "      <td>1.0</td>\n",
       "      <td>0.0</td>\n",
       "      <td>0.0</td>\n",
       "      <td>0.0</td>\n",
       "      <td>0.0</td>\n",
       "      <td>0.000000</td>\n",
       "      <td>0.20</td>\n",
       "      <td>0.20</td>\n",
       "      <td>0.0</td>\n",
       "      <td>0.0</td>\n",
       "      <td>...</td>\n",
       "      <td>2.0</td>\n",
       "      <td>1.0</td>\n",
       "      <td>5.0</td>\n",
       "      <td>Returning_Visitor</td>\n",
       "      <td>Male</td>\n",
       "      <td>Deny</td>\n",
       "      <td>Diploma</td>\n",
       "      <td>Other</td>\n",
       "      <td>1.0</td>\n",
       "      <td>False</td>\n",
       "    </tr>\n",
       "  </tbody>\n",
       "</table>\n",
       "<p>5 rows × 22 columns</p>\n",
       "</div>"
      ],
      "text/plain": [
       "   HomePage  HomePage_Duration  LandingPage  LandingPage_Duration  \\\n",
       "0       0.0                0.0          0.0                   0.0   \n",
       "1       0.0                0.0          0.0                   0.0   \n",
       "2       0.0                0.0          0.0                   0.0   \n",
       "3       0.0                0.0          0.0                   0.0   \n",
       "4       1.0                0.0          0.0                   0.0   \n",
       "\n",
       "   ProductDescriptionPage  ProductDescriptionPage_Duration  \\\n",
       "0                     1.0                         0.000000   \n",
       "1                     2.0                         2.666667   \n",
       "2                    10.0                       627.500000   \n",
       "3                     1.0                         0.000000   \n",
       "4                     0.0                         0.000000   \n",
       "\n",
       "   GoogleMetric:Bounce Rates  GoogleMetric:Exit Rates  \\\n",
       "0                       0.20                     0.20   \n",
       "1                       0.05                     0.14   \n",
       "2                       0.02                     0.05   \n",
       "3                       0.20                     0.20   \n",
       "4                       0.20                     0.20   \n",
       "\n",
       "   GoogleMetric:Page Values  SeasonalPurchase  ... SearchEngine  Zone  \\\n",
       "0                       0.0               0.0  ...          1.0   9.0   \n",
       "1                       0.0               0.0  ...          2.0   2.0   \n",
       "2                       0.0               0.0  ...          3.0   1.0   \n",
       "3                       0.0               0.4  ...          4.0   3.0   \n",
       "4                       0.0               0.0  ...          2.0   1.0   \n",
       "\n",
       "   Type of Traffic       CustomerType         Gender Cookies Setting  \\\n",
       "0              3.0  Returning_Visitor  Not Specified            Deny   \n",
       "1              4.0  Returning_Visitor         Female            Deny   \n",
       "2              4.0  Returning_Visitor         Female             ALL   \n",
       "3              3.0  Returning_Visitor           Male             ALL   \n",
       "4              5.0  Returning_Visitor           Male            Deny   \n",
       "\n",
       "       Education Marital Status WeekendPurchase Made_Purchase  \n",
       "0  Not Specified          Other             0.0         False  \n",
       "1         Others        Married             0.0         False  \n",
       "2         Others        Married             1.0         False  \n",
       "3        Diploma         Single             0.0         False  \n",
       "4        Diploma          Other             1.0         False  \n",
       "\n",
       "[5 rows x 22 columns]"
      ]
     },
     "execution_count": 3,
     "metadata": {},
     "output_type": "execute_result"
    }
   ],
   "source": [
    "df.head()"
   ]
  },
  {
   "cell_type": "code",
   "execution_count": 4,
   "id": "ea5302ba",
   "metadata": {
    "execution": {
     "iopub.execute_input": "2023-03-31T15:25:39.579642Z",
     "iopub.status.busy": "2023-03-31T15:25:39.579239Z",
     "iopub.status.idle": "2023-03-31T15:25:39.608367Z",
     "shell.execute_reply": "2023-03-31T15:25:39.607079Z"
    },
    "papermill": {
     "duration": 0.039603,
     "end_time": "2023-03-31T15:25:39.610941",
     "exception": false,
     "start_time": "2023-03-31T15:25:39.571338",
     "status": "completed"
    },
    "tags": []
   },
   "outputs": [
    {
     "name": "stdout",
     "output_type": "stream",
     "text": [
      "<class 'pandas.core.frame.DataFrame'>\n",
      "RangeIndex: 14731 entries, 0 to 14730\n",
      "Data columns (total 22 columns):\n",
      " #   Column                           Non-Null Count  Dtype  \n",
      "---  ------                           --------------  -----  \n",
      " 0   HomePage                         14578 non-null  float64\n",
      " 1   HomePage_Duration                14581 non-null  float64\n",
      " 2   LandingPage                      14578 non-null  float64\n",
      " 3   LandingPage_Duration             14596 non-null  float64\n",
      " 4   ProductDescriptionPage           14608 non-null  float64\n",
      " 5   ProductDescriptionPage_Duration  14564 non-null  float64\n",
      " 6   GoogleMetric:Bounce Rates        14580 non-null  float64\n",
      " 7   GoogleMetric:Exit Rates          14602 non-null  float64\n",
      " 8   GoogleMetric:Page Values         14599 non-null  float64\n",
      " 9   SeasonalPurchase                 14581 non-null  float64\n",
      " 10  Month_SeasonalPurchase           14587 non-null  object \n",
      " 11  OS                               14597 non-null  float64\n",
      " 12  SearchEngine                     14609 non-null  float64\n",
      " 13  Zone                             14614 non-null  float64\n",
      " 14  Type of Traffic                  14588 non-null  float64\n",
      " 15  CustomerType                     14587 non-null  object \n",
      " 16  Gender                           14586 non-null  object \n",
      " 17  Cookies Setting                  14587 non-null  object \n",
      " 18  Education                        14595 non-null  object \n",
      " 19  Marital Status                   14601 non-null  object \n",
      " 20  WeekendPurchase                  14610 non-null  float64\n",
      " 21  Made_Purchase                    14731 non-null  bool   \n",
      "dtypes: bool(1), float64(15), object(6)\n",
      "memory usage: 2.4+ MB\n"
     ]
    }
   ],
   "source": [
    "df.info()"
   ]
  },
  {
   "cell_type": "code",
   "execution_count": 5,
   "id": "161ccfeb",
   "metadata": {
    "execution": {
     "iopub.execute_input": "2023-03-31T15:25:39.625574Z",
     "iopub.status.busy": "2023-03-31T15:25:39.625209Z",
     "iopub.status.idle": "2023-03-31T15:25:39.640421Z",
     "shell.execute_reply": "2023-03-31T15:25:39.639370Z"
    },
    "papermill": {
     "duration": 0.025415,
     "end_time": "2023-03-31T15:25:39.642802",
     "exception": false,
     "start_time": "2023-03-31T15:25:39.617387",
     "status": "completed"
    },
    "tags": []
   },
   "outputs": [
    {
     "data": {
      "text/plain": [
       "HomePage                           153\n",
       "HomePage_Duration                  150\n",
       "LandingPage                        153\n",
       "LandingPage_Duration               135\n",
       "ProductDescriptionPage             123\n",
       "ProductDescriptionPage_Duration    167\n",
       "GoogleMetric:Bounce Rates          151\n",
       "GoogleMetric:Exit Rates            129\n",
       "GoogleMetric:Page Values           132\n",
       "SeasonalPurchase                   150\n",
       "Month_SeasonalPurchase             144\n",
       "OS                                 134\n",
       "SearchEngine                       122\n",
       "Zone                               117\n",
       "Type of Traffic                    143\n",
       "CustomerType                       144\n",
       "Gender                             145\n",
       "Cookies Setting                    144\n",
       "Education                          136\n",
       "Marital Status                     130\n",
       "WeekendPurchase                    121\n",
       "Made_Purchase                        0\n",
       "dtype: int64"
      ]
     },
     "execution_count": 5,
     "metadata": {},
     "output_type": "execute_result"
    }
   ],
   "source": [
    "df.isna().sum()"
   ]
  },
  {
   "cell_type": "code",
   "execution_count": 6,
   "id": "88d41d10",
   "metadata": {
    "execution": {
     "iopub.execute_input": "2023-03-31T15:25:39.658558Z",
     "iopub.status.busy": "2023-03-31T15:25:39.657426Z",
     "iopub.status.idle": "2023-03-31T15:25:39.723201Z",
     "shell.execute_reply": "2023-03-31T15:25:39.722336Z"
    },
    "papermill": {
     "duration": 0.075866,
     "end_time": "2023-03-31T15:25:39.725323",
     "exception": false,
     "start_time": "2023-03-31T15:25:39.649457",
     "status": "completed"
    },
    "tags": []
   },
   "outputs": [
    {
     "data": {
      "text/html": [
       "<div>\n",
       "<style scoped>\n",
       "    .dataframe tbody tr th:only-of-type {\n",
       "        vertical-align: middle;\n",
       "    }\n",
       "\n",
       "    .dataframe tbody tr th {\n",
       "        vertical-align: top;\n",
       "    }\n",
       "\n",
       "    .dataframe thead th {\n",
       "        text-align: right;\n",
       "    }\n",
       "</style>\n",
       "<table border=\"1\" class=\"dataframe\">\n",
       "  <thead>\n",
       "    <tr style=\"text-align: right;\">\n",
       "      <th></th>\n",
       "      <th>HomePage</th>\n",
       "      <th>HomePage_Duration</th>\n",
       "      <th>LandingPage</th>\n",
       "      <th>LandingPage_Duration</th>\n",
       "      <th>ProductDescriptionPage</th>\n",
       "      <th>ProductDescriptionPage_Duration</th>\n",
       "      <th>GoogleMetric:Bounce Rates</th>\n",
       "      <th>GoogleMetric:Exit Rates</th>\n",
       "      <th>GoogleMetric:Page Values</th>\n",
       "      <th>SeasonalPurchase</th>\n",
       "      <th>OS</th>\n",
       "      <th>SearchEngine</th>\n",
       "      <th>Zone</th>\n",
       "      <th>Type of Traffic</th>\n",
       "      <th>WeekendPurchase</th>\n",
       "    </tr>\n",
       "  </thead>\n",
       "  <tbody>\n",
       "    <tr>\n",
       "      <th>count</th>\n",
       "      <td>14578.000000</td>\n",
       "      <td>14581.000000</td>\n",
       "      <td>14578.000000</td>\n",
       "      <td>14596.000000</td>\n",
       "      <td>14608.000000</td>\n",
       "      <td>14564.000000</td>\n",
       "      <td>14580.000000</td>\n",
       "      <td>14602.000000</td>\n",
       "      <td>14599.000000</td>\n",
       "      <td>14581.000000</td>\n",
       "      <td>14597.000000</td>\n",
       "      <td>14609.000000</td>\n",
       "      <td>14614.000000</td>\n",
       "      <td>14588.000000</td>\n",
       "      <td>14610.000000</td>\n",
       "    </tr>\n",
       "    <tr>\n",
       "      <th>mean</th>\n",
       "      <td>2.250240</td>\n",
       "      <td>79.300762</td>\n",
       "      <td>0.490739</td>\n",
       "      <td>33.455943</td>\n",
       "      <td>31.559488</td>\n",
       "      <td>1184.346084</td>\n",
       "      <td>0.023366</td>\n",
       "      <td>0.044664</td>\n",
       "      <td>4.812620</td>\n",
       "      <td>0.064083</td>\n",
       "      <td>2.122422</td>\n",
       "      <td>2.356629</td>\n",
       "      <td>3.155673</td>\n",
       "      <td>4.090143</td>\n",
       "      <td>0.234155</td>\n",
       "    </tr>\n",
       "    <tr>\n",
       "      <th>std</th>\n",
       "      <td>3.288042</td>\n",
       "      <td>179.374699</td>\n",
       "      <td>1.252376</td>\n",
       "      <td>140.146256</td>\n",
       "      <td>44.897089</td>\n",
       "      <td>2009.496307</td>\n",
       "      <td>0.050011</td>\n",
       "      <td>0.049912</td>\n",
       "      <td>16.887366</td>\n",
       "      <td>0.202583</td>\n",
       "      <td>0.914404</td>\n",
       "      <td>1.721823</td>\n",
       "      <td>2.405155</td>\n",
       "      <td>4.040147</td>\n",
       "      <td>0.423484</td>\n",
       "    </tr>\n",
       "    <tr>\n",
       "      <th>min</th>\n",
       "      <td>0.000000</td>\n",
       "      <td>0.000000</td>\n",
       "      <td>0.000000</td>\n",
       "      <td>0.000000</td>\n",
       "      <td>0.000000</td>\n",
       "      <td>0.000000</td>\n",
       "      <td>0.000000</td>\n",
       "      <td>0.000000</td>\n",
       "      <td>0.000000</td>\n",
       "      <td>0.000000</td>\n",
       "      <td>1.000000</td>\n",
       "      <td>1.000000</td>\n",
       "      <td>1.000000</td>\n",
       "      <td>1.000000</td>\n",
       "      <td>0.000000</td>\n",
       "    </tr>\n",
       "    <tr>\n",
       "      <th>25%</th>\n",
       "      <td>0.000000</td>\n",
       "      <td>0.000000</td>\n",
       "      <td>0.000000</td>\n",
       "      <td>0.000000</td>\n",
       "      <td>7.000000</td>\n",
       "      <td>173.187500</td>\n",
       "      <td>0.000000</td>\n",
       "      <td>0.014502</td>\n",
       "      <td>0.000000</td>\n",
       "      <td>0.000000</td>\n",
       "      <td>2.000000</td>\n",
       "      <td>2.000000</td>\n",
       "      <td>1.000000</td>\n",
       "      <td>2.000000</td>\n",
       "      <td>0.000000</td>\n",
       "    </tr>\n",
       "    <tr>\n",
       "      <th>50%</th>\n",
       "      <td>1.000000</td>\n",
       "      <td>5.000000</td>\n",
       "      <td>0.000000</td>\n",
       "      <td>0.000000</td>\n",
       "      <td>17.500000</td>\n",
       "      <td>584.333333</td>\n",
       "      <td>0.003478</td>\n",
       "      <td>0.026406</td>\n",
       "      <td>0.000000</td>\n",
       "      <td>0.000000</td>\n",
       "      <td>2.000000</td>\n",
       "      <td>2.000000</td>\n",
       "      <td>3.000000</td>\n",
       "      <td>2.000000</td>\n",
       "      <td>0.000000</td>\n",
       "    </tr>\n",
       "    <tr>\n",
       "      <th>75%</th>\n",
       "      <td>3.000000</td>\n",
       "      <td>91.000000</td>\n",
       "      <td>0.000000</td>\n",
       "      <td>0.000000</td>\n",
       "      <td>38.000000</td>\n",
       "      <td>1434.255128</td>\n",
       "      <td>0.018182</td>\n",
       "      <td>0.050000</td>\n",
       "      <td>0.000000</td>\n",
       "      <td>0.000000</td>\n",
       "      <td>3.000000</td>\n",
       "      <td>2.000000</td>\n",
       "      <td>4.000000</td>\n",
       "      <td>4.000000</td>\n",
       "      <td>0.000000</td>\n",
       "    </tr>\n",
       "    <tr>\n",
       "      <th>max</th>\n",
       "      <td>27.000000</td>\n",
       "      <td>3398.750000</td>\n",
       "      <td>24.000000</td>\n",
       "      <td>2549.375000</td>\n",
       "      <td>705.000000</td>\n",
       "      <td>63973.522230</td>\n",
       "      <td>0.200000</td>\n",
       "      <td>0.200000</td>\n",
       "      <td>361.763742</td>\n",
       "      <td>1.000000</td>\n",
       "      <td>8.000000</td>\n",
       "      <td>13.000000</td>\n",
       "      <td>9.000000</td>\n",
       "      <td>20.000000</td>\n",
       "      <td>1.000000</td>\n",
       "    </tr>\n",
       "  </tbody>\n",
       "</table>\n",
       "</div>"
      ],
      "text/plain": [
       "           HomePage  HomePage_Duration   LandingPage  LandingPage_Duration  \\\n",
       "count  14578.000000       14581.000000  14578.000000          14596.000000   \n",
       "mean       2.250240          79.300762      0.490739             33.455943   \n",
       "std        3.288042         179.374699      1.252376            140.146256   \n",
       "min        0.000000           0.000000      0.000000              0.000000   \n",
       "25%        0.000000           0.000000      0.000000              0.000000   \n",
       "50%        1.000000           5.000000      0.000000              0.000000   \n",
       "75%        3.000000          91.000000      0.000000              0.000000   \n",
       "max       27.000000        3398.750000     24.000000           2549.375000   \n",
       "\n",
       "       ProductDescriptionPage  ProductDescriptionPage_Duration  \\\n",
       "count            14608.000000                     14564.000000   \n",
       "mean                31.559488                      1184.346084   \n",
       "std                 44.897089                      2009.496307   \n",
       "min                  0.000000                         0.000000   \n",
       "25%                  7.000000                       173.187500   \n",
       "50%                 17.500000                       584.333333   \n",
       "75%                 38.000000                      1434.255128   \n",
       "max                705.000000                     63973.522230   \n",
       "\n",
       "       GoogleMetric:Bounce Rates  GoogleMetric:Exit Rates  \\\n",
       "count               14580.000000             14602.000000   \n",
       "mean                    0.023366                 0.044664   \n",
       "std                     0.050011                 0.049912   \n",
       "min                     0.000000                 0.000000   \n",
       "25%                     0.000000                 0.014502   \n",
       "50%                     0.003478                 0.026406   \n",
       "75%                     0.018182                 0.050000   \n",
       "max                     0.200000                 0.200000   \n",
       "\n",
       "       GoogleMetric:Page Values  SeasonalPurchase            OS  SearchEngine  \\\n",
       "count              14599.000000      14581.000000  14597.000000  14609.000000   \n",
       "mean                   4.812620          0.064083      2.122422      2.356629   \n",
       "std                   16.887366          0.202583      0.914404      1.721823   \n",
       "min                    0.000000          0.000000      1.000000      1.000000   \n",
       "25%                    0.000000          0.000000      2.000000      2.000000   \n",
       "50%                    0.000000          0.000000      2.000000      2.000000   \n",
       "75%                    0.000000          0.000000      3.000000      2.000000   \n",
       "max                  361.763742          1.000000      8.000000     13.000000   \n",
       "\n",
       "               Zone  Type of Traffic  WeekendPurchase  \n",
       "count  14614.000000     14588.000000     14610.000000  \n",
       "mean       3.155673         4.090143         0.234155  \n",
       "std        2.405155         4.040147         0.423484  \n",
       "min        1.000000         1.000000         0.000000  \n",
       "25%        1.000000         2.000000         0.000000  \n",
       "50%        3.000000         2.000000         0.000000  \n",
       "75%        4.000000         4.000000         0.000000  \n",
       "max        9.000000        20.000000         1.000000  "
      ]
     },
     "execution_count": 6,
     "metadata": {},
     "output_type": "execute_result"
    }
   ],
   "source": [
    "df.describe()"
   ]
  },
  {
   "cell_type": "code",
   "execution_count": 7,
   "id": "4559b0a8",
   "metadata": {
    "execution": {
     "iopub.execute_input": "2023-03-31T15:25:39.742059Z",
     "iopub.status.busy": "2023-03-31T15:25:39.741058Z",
     "iopub.status.idle": "2023-03-31T15:25:42.290087Z",
     "shell.execute_reply": "2023-03-31T15:25:42.288752Z"
    },
    "papermill": {
     "duration": 2.56089,
     "end_time": "2023-03-31T15:25:42.293435",
     "exception": false,
     "start_time": "2023-03-31T15:25:39.732545",
     "status": "completed"
    },
    "tags": []
   },
   "outputs": [
    {
     "name": "stderr",
     "output_type": "stream",
     "text": [
      "/opt/conda/lib/python3.7/site-packages/ipykernel_launcher.py:4: UserWarning: To output multiple subplots, the figure containing the passed axes is being cleared\n",
      "  after removing the cwd from sys.path.\n"
     ]
    },
    {
     "data": {
      "image/png": "[encoded data removed]",
      "text/plain": [
       "<Figure size 1440x1080 with 16 Axes>"
      ]
     },
     "metadata": {
      "needs_background": "light"
     },
     "output_type": "display_data"
    }
   ],
   "source": [
    "import matplotlib.pyplot as plt\n",
    "fig = plt.figure(figsize = (20,15))\n",
    "ax = fig.gca()\n",
    "df.hist(ax = ax);"
   ]
  },
  {
   "cell_type": "code",
   "execution_count": 8,
   "id": "2ba25e57",
   "metadata": {
    "execution": {
     "iopub.execute_input": "2023-03-31T15:25:42.314282Z",
     "iopub.status.busy": "2023-03-31T15:25:42.312949Z",
     "iopub.status.idle": "2023-03-31T15:25:42.322654Z",
     "shell.execute_reply": "2023-03-31T15:25:42.321422Z"
    },
    "papermill": {
     "duration": 0.023329,
     "end_time": "2023-03-31T15:25:42.325147",
     "exception": false,
     "start_time": "2023-03-31T15:25:42.301818",
     "status": "completed"
    },
    "tags": []
   },
   "outputs": [],
   "source": [
    "X=df.drop(['Made_Purchase'], axis=1)\n",
    "Y=df['Made_Purchase']\n"
   ]
  },
  {
   "cell_type": "code",
   "execution_count": 9,
   "id": "8c79a563",
   "metadata": {
    "execution": {
     "iopub.execute_input": "2023-03-31T15:25:42.344274Z",
     "iopub.status.busy": "2023-03-31T15:25:42.343022Z",
     "iopub.status.idle": "2023-03-31T15:25:42.349619Z",
     "shell.execute_reply": "2023-03-31T15:25:42.348783Z"
    },
    "papermill": {
     "duration": 0.018686,
     "end_time": "2023-03-31T15:25:42.352134",
     "exception": false,
     "start_time": "2023-03-31T15:25:42.333448",
     "status": "completed"
    },
    "tags": []
   },
   "outputs": [],
   "source": [
    "num_att = ['HomePage', 'HomePage_Duration', 'LandingPage', 'LandingPage_Duration', 'ProductDescriptionPage', 'ProductDescriptionPage_Duration', 'GoogleMetric:Bounce Rates', 'GoogleMetric:Exit Rates', 'GoogleMetric:Page Values', 'SeasonalPurchase', 'OS', 'SearchEngine', 'Zone', 'Type of Traffic', 'WeekendPurchase' ]\n",
    "cat_att = ['Month_SeasonalPurchase', 'CustomerType', 'Gender', 'Cookies Setting', 'Education', 'Marital Status']"
   ]
  },
  {
   "cell_type": "code",
   "execution_count": 10,
   "id": "873ec281",
   "metadata": {
    "execution": {
     "iopub.execute_input": "2023-03-31T15:25:42.371196Z",
     "iopub.status.busy": "2023-03-31T15:25:42.370499Z",
     "iopub.status.idle": "2023-03-31T15:25:43.522955Z",
     "shell.execute_reply": "2023-03-31T15:25:43.521468Z"
    },
    "papermill": {
     "duration": 1.16506,
     "end_time": "2023-03-31T15:25:43.525589",
     "exception": false,
     "start_time": "2023-03-31T15:25:42.360529",
     "status": "completed"
    },
    "tags": []
   },
   "outputs": [],
   "source": [
    "from sklearn.pipeline import Pipeline\n",
    "from sklearn.preprocessing import StandardScaler, OrdinalEncoder, OneHotEncoder, MinMaxScaler\n",
    "from sklearn.compose import ColumnTransformer\n",
    "from sklearn.impute import SimpleImputer"
   ]
  },
  {
   "cell_type": "code",
   "execution_count": 11,
   "id": "8cb541d6",
   "metadata": {
    "execution": {
     "iopub.execute_input": "2023-03-31T15:25:43.544540Z",
     "iopub.status.busy": "2023-03-31T15:25:43.543625Z",
     "iopub.status.idle": "2023-03-31T15:25:43.759298Z",
     "shell.execute_reply": "2023-03-31T15:25:43.758042Z"
    },
    "papermill": {
     "duration": 0.227989,
     "end_time": "2023-03-31T15:25:43.761936",
     "exception": false,
     "start_time": "2023-03-31T15:25:43.533947",
     "status": "completed"
    },
    "tags": []
   },
   "outputs": [],
   "source": [
    "num_pipe = Pipeline([('imputer', SimpleImputer(strategy = 'mean')),\n",
    "                     ('scaler', StandardScaler())])\n",
    "cat_pipe = Pipeline([('imputer', SimpleImputer(strategy = 'most_frequent')),\n",
    "                     ('encoder', OneHotEncoder())])\n",
    "\n",
    "pipe = ColumnTransformer([('num', num_pipe, num_att),\n",
    "                          ('cat', cat_pipe, cat_att)\n",
    "                          ])\n",
    "X = pipe.fit_transform(X)"
   ]
  },
  {
   "cell_type": "code",
   "execution_count": 12,
   "id": "fade11fe",
   "metadata": {
    "execution": {
     "iopub.execute_input": "2023-03-31T15:25:43.780297Z",
     "iopub.status.busy": "2023-03-31T15:25:43.779905Z",
     "iopub.status.idle": "2023-03-31T15:25:43.952822Z",
     "shell.execute_reply": "2023-03-31T15:25:43.951607Z"
    },
    "papermill": {
     "duration": 0.184865,
     "end_time": "2023-03-31T15:25:43.955237",
     "exception": false,
     "start_time": "2023-03-31T15:25:43.770372",
     "status": "completed"
    },
    "tags": []
   },
   "outputs": [
    {
     "data": {
      "text/html": [
       "<div>\n",
       "<style scoped>\n",
       "    .dataframe tbody tr th:only-of-type {\n",
       "        vertical-align: middle;\n",
       "    }\n",
       "\n",
       "    .dataframe tbody tr th {\n",
       "        vertical-align: top;\n",
       "    }\n",
       "\n",
       "    .dataframe thead th {\n",
       "        text-align: right;\n",
       "    }\n",
       "</style>\n",
       "<table border=\"1\" class=\"dataframe\">\n",
       "  <thead>\n",
       "    <tr style=\"text-align: right;\">\n",
       "      <th></th>\n",
       "      <th>0</th>\n",
       "      <th>1</th>\n",
       "      <th>2</th>\n",
       "      <th>3</th>\n",
       "      <th>4</th>\n",
       "      <th>5</th>\n",
       "      <th>6</th>\n",
       "      <th>7</th>\n",
       "      <th>8</th>\n",
       "      <th>9</th>\n",
       "      <th>...</th>\n",
       "      <th>31</th>\n",
       "      <th>32</th>\n",
       "      <th>33</th>\n",
       "      <th>34</th>\n",
       "      <th>35</th>\n",
       "      <th>36</th>\n",
       "      <th>37</th>\n",
       "      <th>38</th>\n",
       "      <th>39</th>\n",
       "      <th>40</th>\n",
       "    </tr>\n",
       "  </thead>\n",
       "  <tbody>\n",
       "    <tr>\n",
       "      <th>count</th>\n",
       "      <td>1.473100e+04</td>\n",
       "      <td>1.473100e+04</td>\n",
       "      <td>1.473100e+04</td>\n",
       "      <td>1.473100e+04</td>\n",
       "      <td>1.473100e+04</td>\n",
       "      <td>1.473100e+04</td>\n",
       "      <td>1.473100e+04</td>\n",
       "      <td>1.473100e+04</td>\n",
       "      <td>1.473100e+04</td>\n",
       "      <td>1.473100e+04</td>\n",
       "      <td>...</td>\n",
       "      <td>14731.000000</td>\n",
       "      <td>14731.000000</td>\n",
       "      <td>14731.000000</td>\n",
       "      <td>14731.000000</td>\n",
       "      <td>14731.00000</td>\n",
       "      <td>14731.000000</td>\n",
       "      <td>14731.000000</td>\n",
       "      <td>14731.000000</td>\n",
       "      <td>14731.000000</td>\n",
       "      <td>14731.000000</td>\n",
       "    </tr>\n",
       "    <tr>\n",
       "      <th>mean</th>\n",
       "      <td>5.981081e-17</td>\n",
       "      <td>2.845837e-17</td>\n",
       "      <td>1.447036e-17</td>\n",
       "      <td>8.682214e-18</td>\n",
       "      <td>-2.122319e-17</td>\n",
       "      <td>-5.305797e-17</td>\n",
       "      <td>5.595204e-17</td>\n",
       "      <td>3.858762e-18</td>\n",
       "      <td>3.858762e-17</td>\n",
       "      <td>2.894071e-17</td>\n",
       "      <td>...</td>\n",
       "      <td>0.322857</td>\n",
       "      <td>0.346752</td>\n",
       "      <td>0.330392</td>\n",
       "      <td>0.247980</td>\n",
       "      <td>0.25056</td>\n",
       "      <td>0.239291</td>\n",
       "      <td>0.262168</td>\n",
       "      <td>0.321092</td>\n",
       "      <td>0.344987</td>\n",
       "      <td>0.333922</td>\n",
       "    </tr>\n",
       "    <tr>\n",
       "      <th>std</th>\n",
       "      <td>1.000034e+00</td>\n",
       "      <td>1.000034e+00</td>\n",
       "      <td>1.000034e+00</td>\n",
       "      <td>1.000034e+00</td>\n",
       "      <td>1.000034e+00</td>\n",
       "      <td>1.000034e+00</td>\n",
       "      <td>1.000034e+00</td>\n",
       "      <td>1.000034e+00</td>\n",
       "      <td>1.000034e+00</td>\n",
       "      <td>1.000034e+00</td>\n",
       "      <td>...</td>\n",
       "      <td>0.467584</td>\n",
       "      <td>0.475952</td>\n",
       "      <td>0.470370</td>\n",
       "      <td>0.431855</td>\n",
       "      <td>0.43335</td>\n",
       "      <td>0.426665</td>\n",
       "      <td>0.439829</td>\n",
       "      <td>0.466912</td>\n",
       "      <td>0.475380</td>\n",
       "      <td>0.471628</td>\n",
       "    </tr>\n",
       "    <tr>\n",
       "      <th>min</th>\n",
       "      <td>-6.879765e-01</td>\n",
       "      <td>-4.443790e-01</td>\n",
       "      <td>-3.939110e-01</td>\n",
       "      <td>-2.398313e-01</td>\n",
       "      <td>-7.059068e-01</td>\n",
       "      <td>-5.927644e-01</td>\n",
       "      <td>-4.696498e-01</td>\n",
       "      <td>-8.988266e-01</td>\n",
       "      <td>-2.862788e-01</td>\n",
       "      <td>-3.179656e-01</td>\n",
       "      <td>...</td>\n",
       "      <td>0.000000</td>\n",
       "      <td>0.000000</td>\n",
       "      <td>0.000000</td>\n",
       "      <td>0.000000</td>\n",
       "      <td>0.00000</td>\n",
       "      <td>0.000000</td>\n",
       "      <td>0.000000</td>\n",
       "      <td>0.000000</td>\n",
       "      <td>0.000000</td>\n",
       "      <td>0.000000</td>\n",
       "    </tr>\n",
       "    <tr>\n",
       "      <th>25%</th>\n",
       "      <td>-6.879765e-01</td>\n",
       "      <td>-4.443790e-01</td>\n",
       "      <td>-3.939110e-01</td>\n",
       "      <td>-2.398313e-01</td>\n",
       "      <td>-5.493343e-01</td>\n",
       "      <td>-5.036755e-01</td>\n",
       "      <td>-4.696498e-01</td>\n",
       "      <td>-6.036727e-01</td>\n",
       "      <td>-2.862788e-01</td>\n",
       "      <td>-3.179656e-01</td>\n",
       "      <td>...</td>\n",
       "      <td>0.000000</td>\n",
       "      <td>0.000000</td>\n",
       "      <td>0.000000</td>\n",
       "      <td>0.000000</td>\n",
       "      <td>0.00000</td>\n",
       "      <td>0.000000</td>\n",
       "      <td>0.000000</td>\n",
       "      <td>0.000000</td>\n",
       "      <td>0.000000</td>\n",
       "      <td>0.000000</td>\n",
       "    </tr>\n",
       "    <tr>\n",
       "      <th>50%</th>\n",
       "      <td>-3.822418e-01</td>\n",
       "      <td>-4.107567e-01</td>\n",
       "      <td>-3.939110e-01</td>\n",
       "      <td>-2.398313e-01</td>\n",
       "      <td>-3.032918e-01</td>\n",
       "      <td>-2.960496e-01</td>\n",
       "      <td>-3.952063e-01</td>\n",
       "      <td>-3.621832e-01</td>\n",
       "      <td>-2.862788e-01</td>\n",
       "      <td>-3.179656e-01</td>\n",
       "      <td>...</td>\n",
       "      <td>0.000000</td>\n",
       "      <td>0.000000</td>\n",
       "      <td>0.000000</td>\n",
       "      <td>0.000000</td>\n",
       "      <td>0.00000</td>\n",
       "      <td>0.000000</td>\n",
       "      <td>0.000000</td>\n",
       "      <td>0.000000</td>\n",
       "      <td>0.000000</td>\n",
       "      <td>0.000000</td>\n",
       "    </tr>\n",
       "    <tr>\n",
       "      <th>75%</th>\n",
       "      <td>2.292276e-01</td>\n",
       "      <td>5.995550e-02</td>\n",
       "      <td>-3.939110e-01</td>\n",
       "      <td>-2.398313e-01</td>\n",
       "      <td>1.216906e-01</td>\n",
       "      <td>1.181254e-01</td>\n",
       "      <td>-9.379299e-02</td>\n",
       "      <td>1.073798e-01</td>\n",
       "      <td>-2.862788e-01</td>\n",
       "      <td>-3.179656e-01</td>\n",
       "      <td>...</td>\n",
       "      <td>1.000000</td>\n",
       "      <td>1.000000</td>\n",
       "      <td>1.000000</td>\n",
       "      <td>0.000000</td>\n",
       "      <td>1.00000</td>\n",
       "      <td>0.000000</td>\n",
       "      <td>1.000000</td>\n",
       "      <td>1.000000</td>\n",
       "      <td>1.000000</td>\n",
       "      <td>1.000000</td>\n",
       "    </tr>\n",
       "    <tr>\n",
       "      <th>max</th>\n",
       "      <td>7.566860e+00</td>\n",
       "      <td>1.860125e+01</td>\n",
       "      <td>1.887062e+01</td>\n",
       "      <td>1.803554e+01</td>\n",
       "      <td>1.506318e+01</td>\n",
       "      <td>3.142594e+01</td>\n",
       "      <td>3.550300e+00</td>\n",
       "      <td>3.125999e+00</td>\n",
       "      <td>2.123324e+01</td>\n",
       "      <td>4.643782e+00</td>\n",
       "      <td>...</td>\n",
       "      <td>1.000000</td>\n",
       "      <td>1.000000</td>\n",
       "      <td>1.000000</td>\n",
       "      <td>1.000000</td>\n",
       "      <td>1.00000</td>\n",
       "      <td>1.000000</td>\n",
       "      <td>1.000000</td>\n",
       "      <td>1.000000</td>\n",
       "      <td>1.000000</td>\n",
       "      <td>1.000000</td>\n",
       "    </tr>\n",
       "  </tbody>\n",
       "</table>\n",
       "<p>8 rows × 41 columns</p>\n",
       "</div>"
      ],
      "text/plain": [
       "                 0             1             2             3             4   \\\n",
       "count  1.473100e+04  1.473100e+04  1.473100e+04  1.473100e+04  1.473100e+04   \n",
       "mean   5.981081e-17  2.845837e-17  1.447036e-17  8.682214e-18 -2.122319e-17   \n",
       "std    1.000034e+00  1.000034e+00  1.000034e+00  1.000034e+00  1.000034e+00   \n",
       "min   -6.879765e-01 -4.443790e-01 -3.939110e-01 -2.398313e-01 -7.059068e-01   \n",
       "25%   -6.879765e-01 -4.443790e-01 -3.939110e-01 -2.398313e-01 -5.493343e-01   \n",
       "50%   -3.822418e-01 -4.107567e-01 -3.939110e-01 -2.398313e-01 -3.032918e-01   \n",
       "75%    2.292276e-01  5.995550e-02 -3.939110e-01 -2.398313e-01  1.216906e-01   \n",
       "max    7.566860e+00  1.860125e+01  1.887062e+01  1.803554e+01  1.506318e+01   \n",
       "\n",
       "                 5             6             7             8             9   \\\n",
       "count  1.473100e+04  1.473100e+04  1.473100e+04  1.473100e+04  1.473100e+04   \n",
       "mean  -5.305797e-17  5.595204e-17  3.858762e-18  3.858762e-17  2.894071e-17   \n",
       "std    1.000034e+00  1.000034e+00  1.000034e+00  1.000034e+00  1.000034e+00   \n",
       "min   -5.927644e-01 -4.696498e-01 -8.988266e-01 -2.862788e-01 -3.179656e-01   \n",
       "25%   -5.036755e-01 -4.696498e-01 -6.036727e-01 -2.862788e-01 -3.179656e-01   \n",
       "50%   -2.960496e-01 -3.952063e-01 -3.621832e-01 -2.862788e-01 -3.179656e-01   \n",
       "75%    1.181254e-01 -9.379299e-02  1.073798e-01 -2.862788e-01 -3.179656e-01   \n",
       "max    3.142594e+01  3.550300e+00  3.125999e+00  2.123324e+01  4.643782e+00   \n",
       "\n",
       "       ...            31            32            33            34  \\\n",
       "count  ...  14731.000000  14731.000000  14731.000000  14731.000000   \n",
       "mean   ...      0.322857      0.346752      0.330392      0.247980   \n",
       "std    ...      0.467584      0.475952      0.470370      0.431855   \n",
       "min    ...      0.000000      0.000000      0.000000      0.000000   \n",
       "25%    ...      0.000000      0.000000      0.000000      0.000000   \n",
       "50%    ...      0.000000      0.000000      0.000000      0.000000   \n",
       "75%    ...      1.000000      1.000000      1.000000      0.000000   \n",
       "max    ...      1.000000      1.000000      1.000000      1.000000   \n",
       "\n",
       "                35            36            37            38            39  \\\n",
       "count  14731.00000  14731.000000  14731.000000  14731.000000  14731.000000   \n",
       "mean       0.25056      0.239291      0.262168      0.321092      0.344987   \n",
       "std        0.43335      0.426665      0.439829      0.466912      0.475380   \n",
       "min        0.00000      0.000000      0.000000      0.000000      0.000000   \n",
       "25%        0.00000      0.000000      0.000000      0.000000      0.000000   \n",
       "50%        0.00000      0.000000      0.000000      0.000000      0.000000   \n",
       "75%        1.00000      0.000000      1.000000      1.000000      1.000000   \n",
       "max        1.00000      1.000000      1.000000      1.000000      1.000000   \n",
       "\n",
       "                 40  \n",
       "count  14731.000000  \n",
       "mean       0.333922  \n",
       "std        0.471628  \n",
       "min        0.000000  \n",
       "25%        0.000000  \n",
       "50%        0.000000  \n",
       "75%        1.000000  \n",
       "max        1.000000  \n",
       "\n",
       "[8 rows x 41 columns]"
      ]
     },
     "execution_count": 12,
     "metadata": {},
     "output_type": "execute_result"
    }
   ],
   "source": [
    "X = pd.DataFrame(X)\n",
    "X.describe()"
   ]
  },
  {
   "cell_type": "code",
   "execution_count": 13,
   "id": "de262a53",
   "metadata": {
    "execution": {
     "iopub.execute_input": "2023-03-31T15:25:43.975037Z",
     "iopub.status.busy": "2023-03-31T15:25:43.974259Z",
     "iopub.status.idle": "2023-03-31T15:25:45.038878Z",
     "shell.execute_reply": "2023-03-31T15:25:45.037660Z"
    },
    "papermill": {
     "duration": 1.077362,
     "end_time": "2023-03-31T15:25:45.041244",
     "exception": false,
     "start_time": "2023-03-31T15:25:43.963882",
     "status": "completed"
    },
    "tags": []
   },
   "outputs": [
    {
     "data": {
      "text/plain": [
       "(18130, 41)"
      ]
     },
     "execution_count": 13,
     "metadata": {},
     "output_type": "execute_result"
    }
   ],
   "source": [
    "from imblearn.over_sampling import SMOTE\n",
    "sampler = SMOTE(random_state = 42)\n",
    "X_osam, y_osam = sampler.fit_resample(X, Y) \n",
    "X_osam.shape"
   ]
  },
  {
   "cell_type": "code",
   "execution_count": 14,
   "id": "5a5df405",
   "metadata": {
    "execution": {
     "iopub.execute_input": "2023-03-31T15:25:45.061369Z",
     "iopub.status.busy": "2023-03-31T15:25:45.060972Z",
     "iopub.status.idle": "2023-03-31T15:25:50.023455Z",
     "shell.execute_reply": "2023-03-31T15:25:50.022312Z"
    },
    "papermill": {
     "duration": 4.975135,
     "end_time": "2023-03-31T15:25:50.025931",
     "exception": false,
     "start_time": "2023-03-31T15:25:45.050796",
     "status": "completed"
    },
    "tags": []
   },
   "outputs": [
    {
     "data": {
      "text/plain": [
       "GradientBoostingClassifier()"
      ]
     },
     "execution_count": 14,
     "metadata": {},
     "output_type": "execute_result"
    }
   ],
   "source": [
    "from sklearn.ensemble import AdaBoostClassifier,GradientBoostingClassifier,RandomForestClassifier, StackingClassifier\n",
    "model = GradientBoostingClassifier()\n",
    "model.fit(X_osam,y_osam)"
   ]
  },
  {
   "cell_type": "code",
   "execution_count": 15,
   "id": "222ed6f8",
   "metadata": {
    "execution": {
     "iopub.execute_input": "2023-03-31T15:25:50.045704Z",
     "iopub.status.busy": "2023-03-31T15:25:50.045227Z",
     "iopub.status.idle": "2023-03-31T15:25:50.090513Z",
     "shell.execute_reply": "2023-03-31T15:25:50.089438Z"
    },
    "papermill": {
     "duration": 0.057919,
     "end_time": "2023-03-31T15:25:50.092936",
     "exception": false,
     "start_time": "2023-03-31T15:25:50.035017",
     "status": "completed"
    },
    "tags": []
   },
   "outputs": [
    {
     "data": {
      "text/plain": [
       "0.7318257032542747"
      ]
     },
     "execution_count": 15,
     "metadata": {},
     "output_type": "execute_result"
    }
   ],
   "source": [
    "model.score(X_osam,y_osam)"
   ]
  },
  {
   "cell_type": "code",
   "execution_count": 16,
   "id": "59da255b",
   "metadata": {
    "execution": {
     "iopub.execute_input": "2023-03-31T15:25:50.114447Z",
     "iopub.status.busy": "2023-03-31T15:25:50.113439Z",
     "iopub.status.idle": "2023-03-31T15:26:09.985755Z",
     "shell.execute_reply": "2023-03-31T15:26:09.984427Z"
    },
    "papermill": {
     "duration": 19.885865,
     "end_time": "2023-03-31T15:26:09.988361",
     "exception": false,
     "start_time": "2023-03-31T15:25:50.102496",
     "status": "completed"
    },
    "tags": []
   },
   "outputs": [
    {
     "data": {
      "text/plain": [
       "array([0.30860452, 0.47683398, 0.39492554, 0.46194153, 0.77054606])"
      ]
     },
     "execution_count": 16,
     "metadata": {},
     "output_type": "execute_result"
    }
   ],
   "source": [
    "from sklearn.model_selection import cross_val_score\n",
    "cross_val_score(model,X_osam,y_osam)"
   ]
  },
  {
   "cell_type": "code",
   "execution_count": 17,
   "id": "08c751bc",
   "metadata": {
    "execution": {
     "iopub.execute_input": "2023-03-31T15:26:10.008720Z",
     "iopub.status.busy": "2023-03-31T15:26:10.008270Z",
     "iopub.status.idle": "2023-03-31T15:26:10.080905Z",
     "shell.execute_reply": "2023-03-31T15:26:10.079628Z"
    },
    "papermill": {
     "duration": 0.086977,
     "end_time": "2023-03-31T15:26:10.084745",
     "exception": false,
     "start_time": "2023-03-31T15:26:09.997768",
     "status": "completed"
    },
    "tags": []
   },
   "outputs": [
    {
     "name": "stdout",
     "output_type": "stream",
     "text": [
      "              precision    recall  f1-score   support\n",
      "\n",
      "       False       0.91      0.67      0.77     12275\n",
      "        True       0.55      0.86      0.67      5855\n",
      "\n",
      "    accuracy                           0.73     18130\n",
      "   macro avg       0.73      0.77      0.72     18130\n",
      "weighted avg       0.79      0.73      0.74     18130\n",
      "\n"
     ]
    }
   ],
   "source": [
    "from sklearn.metrics import classification_report\n",
    "print(classification_report(model.predict(X_osam),y_osam))"
   ]
  },
  {
   "cell_type": "code",
   "execution_count": 18,
   "id": "ec7edb84",
   "metadata": {
    "execution": {
     "iopub.execute_input": "2023-03-31T15:26:10.106362Z",
     "iopub.status.busy": "2023-03-31T15:26:10.105739Z",
     "iopub.status.idle": "2023-03-31T15:26:10.149604Z",
     "shell.execute_reply": "2023-03-31T15:26:10.148750Z"
    },
    "papermill": {
     "duration": 0.057296,
     "end_time": "2023-03-31T15:26:10.152054",
     "exception": false,
     "start_time": "2023-03-31T15:26:10.094758",
     "status": "completed"
    },
    "tags": []
   },
   "outputs": [],
   "source": [
    "dft=pd.read_csv('/kaggle/input/e-commerce-shoppers-behaviour-understanding/test_data_v2.csv')"
   ]
  },
  {
   "cell_type": "code",
   "execution_count": 19,
   "id": "8df9cb9b",
   "metadata": {
    "execution": {
     "iopub.execute_input": "2023-03-31T15:26:10.172864Z",
     "iopub.status.busy": "2023-03-31T15:26:10.172213Z",
     "iopub.status.idle": "2023-03-31T15:26:10.197416Z",
     "shell.execute_reply": "2023-03-31T15:26:10.196523Z"
    },
    "papermill": {
     "duration": 0.038356,
     "end_time": "2023-03-31T15:26:10.199885",
     "exception": false,
     "start_time": "2023-03-31T15:26:10.161529",
     "status": "completed"
    },
    "tags": []
   },
   "outputs": [],
   "source": [
    "X_test = pipe.transform(dft)"
   ]
  },
  {
   "cell_type": "code",
   "execution_count": 20,
   "id": "1b756688",
   "metadata": {
    "execution": {
     "iopub.execute_input": "2023-03-31T15:26:10.220532Z",
     "iopub.status.busy": "2023-03-31T15:26:10.220074Z",
     "iopub.status.idle": "2023-03-31T15:26:10.238218Z",
     "shell.execute_reply": "2023-03-31T15:26:10.237056Z"
    },
    "papermill": {
     "duration": 0.0318,
     "end_time": "2023-03-31T15:26:10.241248",
     "exception": false,
     "start_time": "2023-03-31T15:26:10.209448",
     "status": "completed"
    },
    "tags": []
   },
   "outputs": [],
   "source": [
    "prediction=model.predict(X_test)"
   ]
  },
  {
   "cell_type": "code",
   "execution_count": 21,
   "id": "37445664",
   "metadata": {
    "execution": {
     "iopub.execute_input": "2023-03-31T15:26:10.262191Z",
     "iopub.status.busy": "2023-03-31T15:26:10.261778Z",
     "iopub.status.idle": "2023-03-31T15:26:10.289523Z",
     "shell.execute_reply": "2023-03-31T15:26:10.288377Z"
    },
    "papermill": {
     "duration": 0.041099,
     "end_time": "2023-03-31T15:26:10.292284",
     "exception": false,
     "start_time": "2023-03-31T15:26:10.251185",
     "status": "completed"
    },
    "tags": []
   },
   "outputs": [],
   "source": [
    "p=pd.DataFrame(prediction)\n",
    "p[0].value_counts()\n",
    "X_test = pipe.transform(dft)"
   ]
  },
  {
   "cell_type": "code",
   "execution_count": 22,
   "id": "72621bdf",
   "metadata": {
    "execution": {
     "iopub.execute_input": "2023-03-31T15:26:10.313228Z",
     "iopub.status.busy": "2023-03-31T15:26:10.312456Z",
     "iopub.status.idle": "2023-03-31T15:26:10.336845Z",
     "shell.execute_reply": "2023-03-31T15:26:10.335859Z"
    },
    "papermill": {
     "duration": 0.037777,
     "end_time": "2023-03-31T15:26:10.339453",
     "exception": false,
     "start_time": "2023-03-31T15:26:10.301676",
     "status": "completed"
    },
    "tags": []
   },
   "outputs": [],
   "source": [
    "submission=pd.DataFrame(columns=['id','Made_Purchase'])\n",
    "submission['id']=[i for i in range(len(prediction))]\n",
    "submission['Made_Purchase']=prediction\n",
    "submission.to_csv('submission.csv',index=False)"
   ]
  },
  {
   "cell_type": "code",
   "execution_count": 23,
   "id": "4503617f",
   "metadata": {
    "execution": {
     "iopub.execute_input": "2023-03-31T15:26:10.360056Z",
     "iopub.status.busy": "2023-03-31T15:26:10.359613Z",
     "iopub.status.idle": "2023-03-31T15:26:10.370494Z",
     "shell.execute_reply": "2023-03-31T15:26:10.369427Z"
    },
    "papermill": {
     "duration": 0.023748,
     "end_time": "2023-03-31T15:26:10.372864",
     "exception": false,
     "start_time": "2023-03-31T15:26:10.349116",
     "status": "completed"
    },
    "tags": []
   },
   "outputs": [
    {
     "data": {
      "text/html": [
       "<div>\n",
       "<style scoped>\n",
       "    .dataframe tbody tr th:only-of-type {\n",
       "        vertical-align: middle;\n",
       "    }\n",
       "\n",
       "    .dataframe tbody tr th {\n",
       "        vertical-align: top;\n",
       "    }\n",
       "\n",
       "    .dataframe thead th {\n",
       "        text-align: right;\n",
       "    }\n",
       "</style>\n",
       "<table border=\"1\" class=\"dataframe\">\n",
       "  <thead>\n",
       "    <tr style=\"text-align: right;\">\n",
       "      <th></th>\n",
       "      <th>id</th>\n",
       "      <th>Made_Purchase</th>\n",
       "    </tr>\n",
       "  </thead>\n",
       "  <tbody>\n",
       "    <tr>\n",
       "      <th>0</th>\n",
       "      <td>0</td>\n",
       "      <td>False</td>\n",
       "    </tr>\n",
       "    <tr>\n",
       "      <th>1</th>\n",
       "      <td>1</td>\n",
       "      <td>False</td>\n",
       "    </tr>\n",
       "    <tr>\n",
       "      <th>2</th>\n",
       "      <td>2</td>\n",
       "      <td>False</td>\n",
       "    </tr>\n",
       "    <tr>\n",
       "      <th>3</th>\n",
       "      <td>3</td>\n",
       "      <td>False</td>\n",
       "    </tr>\n",
       "    <tr>\n",
       "      <th>4</th>\n",
       "      <td>4</td>\n",
       "      <td>False</td>\n",
       "    </tr>\n",
       "  </tbody>\n",
       "</table>\n",
       "</div>"
      ],
      "text/plain": [
       "   id  Made_Purchase\n",
       "0   0          False\n",
       "1   1          False\n",
       "2   2          False\n",
       "3   3          False\n",
       "4   4          False"
      ]
     },
     "execution_count": 23,
     "metadata": {},
     "output_type": "execute_result"
    }
   ],
   "source": [
    "submission.head()"
   ]
  }
 ],
 "metadata": {
  "kernelspec": {
   "display_name": "Python 3 (ipykernel)",
   "language": "python",
   "name": "python3"
  },
  "language_info": {
   "codemirror_mode": {
    "name": "ipython",
    "version": 3
   },
   "file_extension": ".py",
   "mimetype": "text/x-python",
   "name": "python",
   "nbconvert_exporter": "python",
   "pygments_lexer": "ipython3",
   "version": "3.8.5"
  },
  "papermill": {
   "default_parameters": {},
   "duration": 41.89214,
   "end_time": "2023-03-31T15:26:11.304556",
   "environment_variables": {},
   "exception": null,
   "input_path": "__notebook__.ipynb",
   "output_path": "__notebook__.ipynb",
   "parameters": {},
   "start_time": "2023-03-31T15:25:29.412416",
   "version": "2.3.4"
  }
 },
 "nbformat": 4,
 "nbformat_minor": 5
}
